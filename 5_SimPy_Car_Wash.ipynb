{
  "cells": [
    {
      "cell_type": "markdown",
      "metadata": {
        "id": "view-in-github",
        "colab_type": "text"
      },
      "source": [
        "<a href=\"https://colab.research.google.com/github/seoyun0311/simulation/blob/main/5_SimPy_Car_Wash.ipynb\" target=\"_parent\"><img src=\"https://colab.research.google.com/assets/colab-badge.svg\" alt=\"Open In Colab\"/></a>"
      ]
    },
    {
      "cell_type": "code",
      "execution_count": 27,
      "metadata": {
        "id": "-_U119yciCcw",
        "colab": {
          "base_uri": "https://localhost:8080/"
        },
        "outputId": "9c7140c2-d2d4-4763-b72a-13b779719137"
      },
      "outputs": [
        {
          "output_type": "stream",
          "name": "stdout",
          "text": [
            "Requirement already satisfied: simpy in /usr/local/lib/python3.10/dist-packages (4.1.1)\n",
            "Requirement already satisfied: fitter in /usr/local/lib/python3.10/dist-packages (1.7.1)\n",
            "Requirement already satisfied: click<9.0.0,>=8.1.6 in /usr/local/lib/python3.10/dist-packages (from fitter) (8.1.7)\n",
            "Requirement already satisfied: joblib<2.0.0,>=1.3.1 in /usr/local/lib/python3.10/dist-packages (from fitter) (1.4.2)\n",
            "Requirement already satisfied: loguru<0.8.0,>=0.7.2 in /usr/local/lib/python3.10/dist-packages (from fitter) (0.7.2)\n",
            "Requirement already satisfied: matplotlib<4.0.0,>=3.7.2 in /usr/local/lib/python3.10/dist-packages (from fitter) (3.8.0)\n",
            "Requirement already satisfied: numpy<2.0.0,>=1.20.0 in /usr/local/lib/python3.10/dist-packages (from fitter) (1.26.4)\n",
            "Requirement already satisfied: pandas<3.0.0,>=0.23.4 in /usr/local/lib/python3.10/dist-packages (from fitter) (2.2.2)\n",
            "Requirement already satisfied: rich-click<2.0.0,>=1.7.2 in /usr/local/lib/python3.10/dist-packages (from fitter) (1.8.3)\n",
            "Requirement already satisfied: scipy<2.0.0,>=0.18.0 in /usr/local/lib/python3.10/dist-packages (from fitter) (1.13.1)\n",
            "Requirement already satisfied: tqdm<5.0.0,>=4.65.1 in /usr/local/lib/python3.10/dist-packages (from fitter) (4.66.6)\n",
            "Requirement already satisfied: contourpy>=1.0.1 in /usr/local/lib/python3.10/dist-packages (from matplotlib<4.0.0,>=3.7.2->fitter) (1.3.0)\n",
            "Requirement already satisfied: cycler>=0.10 in /usr/local/lib/python3.10/dist-packages (from matplotlib<4.0.0,>=3.7.2->fitter) (0.12.1)\n",
            "Requirement already satisfied: fonttools>=4.22.0 in /usr/local/lib/python3.10/dist-packages (from matplotlib<4.0.0,>=3.7.2->fitter) (4.54.1)\n",
            "Requirement already satisfied: kiwisolver>=1.0.1 in /usr/local/lib/python3.10/dist-packages (from matplotlib<4.0.0,>=3.7.2->fitter) (1.4.7)\n",
            "Requirement already satisfied: packaging>=20.0 in /usr/local/lib/python3.10/dist-packages (from matplotlib<4.0.0,>=3.7.2->fitter) (24.1)\n",
            "Requirement already satisfied: pillow>=6.2.0 in /usr/local/lib/python3.10/dist-packages (from matplotlib<4.0.0,>=3.7.2->fitter) (10.4.0)\n",
            "Requirement already satisfied: pyparsing>=2.3.1 in /usr/local/lib/python3.10/dist-packages (from matplotlib<4.0.0,>=3.7.2->fitter) (3.2.0)\n",
            "Requirement already satisfied: python-dateutil>=2.7 in /usr/local/lib/python3.10/dist-packages (from matplotlib<4.0.0,>=3.7.2->fitter) (2.8.2)\n",
            "Requirement already satisfied: pytz>=2020.1 in /usr/local/lib/python3.10/dist-packages (from pandas<3.0.0,>=0.23.4->fitter) (2024.2)\n",
            "Requirement already satisfied: tzdata>=2022.7 in /usr/local/lib/python3.10/dist-packages (from pandas<3.0.0,>=0.23.4->fitter) (2024.2)\n",
            "Requirement already satisfied: rich>=10.7 in /usr/local/lib/python3.10/dist-packages (from rich-click<2.0.0,>=1.7.2->fitter) (13.9.3)\n",
            "Requirement already satisfied: typing-extensions in /usr/local/lib/python3.10/dist-packages (from rich-click<2.0.0,>=1.7.2->fitter) (4.12.2)\n",
            "Requirement already satisfied: six>=1.5 in /usr/local/lib/python3.10/dist-packages (from python-dateutil>=2.7->matplotlib<4.0.0,>=3.7.2->fitter) (1.16.0)\n",
            "Requirement already satisfied: markdown-it-py>=2.2.0 in /usr/local/lib/python3.10/dist-packages (from rich>=10.7->rich-click<2.0.0,>=1.7.2->fitter) (3.0.0)\n",
            "Requirement already satisfied: pygments<3.0.0,>=2.13.0 in /usr/local/lib/python3.10/dist-packages (from rich>=10.7->rich-click<2.0.0,>=1.7.2->fitter) (2.18.0)\n",
            "Requirement already satisfied: mdurl~=0.1 in /usr/local/lib/python3.10/dist-packages (from markdown-it-py>=2.2.0->rich>=10.7->rich-click<2.0.0,>=1.7.2->fitter) (0.1.2)\n"
          ]
        }
      ],
      "source": [
        "%pip install simpy\n",
        "%pip install fitter\n",
        "import simpy\n",
        "import random\n",
        "from fitter import Fitter\n",
        "import matplotlib.pyplot as plt"
      ]
    },
    {
      "cell_type": "code",
      "source": [
        "car_interarrival_data = [\n",
        "    1.35166493e+00, 1.36167980e-01, 1.84202857e-01, 3.17178141e-01, 2.51452263e+00, 2.65475771e-02,\n",
        "    1.67443339e-01, 2.09940735e+00, 3.41459398e+00, 1.49252804e-01, 8.74826243e-01, 5.09988862e-02,\n",
        "    3.67731571e-01, 3.77030083e-01, 8.53583257e-02, 5.31342615e+00, 1.91600101e+00, 1.94930075e-01,\n",
        "    2.04986668e+00, 2.85673099e+00, 9.75932581e-01, 1.94861521e-01, 6.87801682e-01, 6.63802815e-01,\n",
        "    2.98096432e+00, 5.37112331e-01, 1.88873714e-01, 1.87810825e+00, 5.43372567e-01, 1.59540088e+00,\n",
        "    1.35160483e+00, 1.26024903e+00, 3.26581711e-01, 1.90230924e+00, 4.93460497e-01, 1.74663821e-01,\n",
        "    4.53647701e-01, 4.51542578e-04, 1.38575055e-01, 2.49413797e+00, 4.54583938e-01, 1.85416115e-01,\n",
        "    3.09104530e-01, 1.59440932e-01, 5.30669164e-01, 1.31789452e+00, 1.63107760e+00, 1.95897103e-01,\n",
        "    5.18152889e-01, 5.80059344e-01, 2.06985808e+00, 1.55236941e-01, 4.52139818e-01, 1.34950675e+00,\n",
        "    8.34712429e-01, 1.48393461e-01, 7.90668730e-01, 1.09956407e+00, 2.13323567e-01, 9.73275625e-02,\n",
        "    3.02919707e+00, 9.79011089e-01, 1.78671931e+00, 6.78908197e-01, 8.11495323e-01, 7.32587321e-01,\n",
        "    2.12304209e+00, 3.62475404e-02, 4.90550291e-01, 3.93394704e-01, 2.25658935e+00, 8.56790200e-01,\n",
        "    5.10164918e-01, 1.01885052e-01, 1.92661884e+00, 1.25556899e+00, 1.16785463e-01, 4.46713059e-01,\n",
        "    1.03879301e+00, 6.22589722e-01, 6.70299754e-02, 1.40772612e+00, 1.43272098e+00, 4.77824425e-02,\n",
        "    8.21307291e-01, 2.55688529e-02, 1.93705664e-01, 3.02083695e-01, 9.35247162e-01, 1.98320867e+00,\n",
        "    2.01670473e-01, 7.48256391e-02, 2.13309391e+00, 5.43444933e-01, 6.30951003e-02, 1.63619863e-01,\n",
        "    1.42022203e+00, 5.78601898e-01, 1.70263363e+00, 1.39347881e-02\n",
        "]"
      ],
      "metadata": {
        "id": "dVeQa280CTiJ"
      },
      "execution_count": 28,
      "outputs": []
    },
    {
      "cell_type": "code",
      "source": [
        "# 최적의 도착 간격 분포 찾기\n",
        "f = Fitter(car_interarrival_data, distributions=['uniform', 'norm', 'expon', 'gamma'])\n",
        "f.fit()\n",
        "\n",
        "best_distribution = f.get_best()\n",
        "print(\"가장 적합한 분포:\")\n",
        "print(best_distribution)"
      ],
      "metadata": {
        "id": "xDyQWz8QCROh",
        "colab": {
          "base_uri": "https://localhost:8080/"
        },
        "outputId": "a5e9fc86-7432-4c5e-a904-478dc4e58876"
      },
      "execution_count": 29,
      "outputs": [
        {
          "output_type": "stream",
          "name": "stdout",
          "text": [
            "가장 적합한 분포:\n",
            "{'expon': {'loc': 0.000451542578, 'scale': 0.9064284160297801}}\n"
          ]
        }
      ]
    },
    {
      "cell_type": "code",
      "execution_count": 30,
      "metadata": {
        "id": "xUQdtYkjiCcx"
      },
      "outputs": [],
      "source": [
        "# 시뮬레이션 파라미터 설정\n",
        "RANDOM_SEED = 7                # 난수 시드\n",
        "NUM_MACHINES = 2               # 세차 기계의 수\n",
        "WASHTIME = 1                   # 세차에 걸리는 시간 (단위: 시간)\n",
        "SIM_TIME = 20                  # 총 시뮬레이션 시간 (단위: 시간)\n",
        "\n",
        "random.seed(RANDOM_SEED)       # 난수 시드 설정\n",
        "Q = []                         # 대기열 상태 저장\n",
        "B = []                         # 자원 사용 상태 저장"
      ]
    },
    {
      "cell_type": "code",
      "execution_count": 31,
      "metadata": {
        "id": "DUKh9OsxiCcx"
      },
      "outputs": [],
      "source": [
        "# 세차 작업 정의\n",
        "def wash(env, car):\n",
        "    yield env.timeout(WASHTIME)  # 세차 시간 대기\n",
        "\n",
        "# 고객 프로세스 정의\n",
        "def car(env, name, carwash, num_machines):\n",
        "    global Q, B\n",
        "    print(f'{name}이(가) {env.now:.2f}에 세차장에 도착했습니다.')  # 도착 시점 출력\n",
        "    arrival_time = env.now\n",
        "\n",
        "# env.now = 시점\n",
        "\n",
        "    # 자원 요청\n",
        "    request = carwash.request()\n",
        "    yield request # 자원 요청 완료까지 대기\n",
        "\n",
        "    # 대기 시간 기록\n",
        "    Q.append((round(env.now, 2), len(carwash.queue))) # 대기열 길이 기록\n",
        "    B.append((round(env.now, 2), carwash.count)) # 자원 사용 상태 기록\n",
        "\n",
        "    wait_time = env.now - arrival_time  # 대기 시간 계산\n",
        "    if wait_time > 0:\n",
        "        print(f'{name}이(가) {env.now:.2f}에 대기 후 세차장에 들어갔습니다.')  # 대기 후 입장\n",
        "    else:\n",
        "        print(f'{name}이(가) {env.now:.2f}에 바로 세차장에 들어갔습니다.')  # 바로 입장\n",
        "\n",
        "    # 세차 작업 시작\n",
        "    yield env.process(wash(env, name)) # 세차 프로세스 실행\n",
        "\n",
        "    print(f'{name}이(가) {env.now:.2f}에 세차장을 떠났습니다.')  # 세차 완료 시점 출력\n",
        "\n",
        "    # 서비스 완료 후 자원 반납\n",
        "    carwash.release(request)\n",
        "\n",
        "    # 대기 시간 기록\n",
        "    Q.append((round(env.now, 2), len(carwash.queue)))\n",
        "    B.append((round(env.now, 2), carwash.count))\n",
        "\n",
        "# 세차장 초기화 및 고객 생성 설정\n",
        "def setup(env, num_machines, scale):\n",
        "    carwash = simpy.Resource(env, num_machines)  # 세차 기계 자원 생성\n",
        "    car_count = 1  # 자동차 번호 초기화\n",
        "\n",
        "    # 초기 자동차 4대 생성\n",
        "    for _ in range(4):\n",
        "        env.process(car(env, f'Car {car_count}', carwash, num_machines))\n",
        "        car_count += 1  # 자동차 번호 증가\n",
        "\n",
        "    while True:\n",
        "        # 지수 분포를 사용하여 도착 간격을 생성\n",
        "        interarrival_time = random.expovariate(1/scale)  # scale에 따라 평균 간격 조정\n",
        "        yield env.timeout(interarrival_time) # interarrival_time만큼 대기\n",
        "        env.process(car(env, f'Car {car_count}', carwash, num_machines))  # 고객 프로세스 생성\n",
        "        car_count += 1  # 자동차 번호 증가"
      ]
    },
    {
      "cell_type": "code",
      "execution_count": 32,
      "metadata": {
        "id": "G1RJiHCAiCcy"
      },
      "outputs": [],
      "source": [
        "# 지수 분포에서의 scale 값 설정\n",
        "scale = 0.9064284160297801"
      ]
    },
    {
      "cell_type": "code",
      "execution_count": 33,
      "metadata": {
        "id": "AFXAVCITiCcy",
        "colab": {
          "base_uri": "https://localhost:8080/"
        },
        "outputId": "46bded5d-c50b-43ce-d30a-3a8d47aae661"
      },
      "outputs": [
        {
          "output_type": "stream",
          "name": "stdout",
          "text": [
            "세차장 시작\n",
            "Car 1이(가) 0.00에 세차장에 도착했습니다.\n",
            "Car 2이(가) 0.00에 세차장에 도착했습니다.\n",
            "Car 3이(가) 0.00에 세차장에 도착했습니다.\n",
            "Car 4이(가) 0.00에 세차장에 도착했습니다.\n",
            "Car 1이(가) 0.00에 바로 세차장에 들어갔습니다.\n",
            "Car 2이(가) 0.00에 바로 세차장에 들어갔습니다.\n",
            "Car 5이(가) 0.35에 세차장에 도착했습니다.\n",
            "Car 6이(가) 0.50에 세차장에 도착했습니다.\n",
            "Car 1이(가) 1.00에 세차장을 떠났습니다.\n",
            "Car 2이(가) 1.00에 세차장을 떠났습니다.\n",
            "Car 3이(가) 1.00에 대기 후 세차장에 들어갔습니다.\n",
            "Car 4이(가) 1.00에 대기 후 세차장에 들어갔습니다.\n",
            "Car 7이(가) 1.46에 세차장에 도착했습니다.\n",
            "Car 8이(가) 1.53에 세차장에 도착했습니다.\n",
            "Car 3이(가) 2.00에 세차장을 떠났습니다.\n",
            "Car 4이(가) 2.00에 세차장을 떠났습니다.\n",
            "Car 5이(가) 2.00에 대기 후 세차장에 들어갔습니다.\n",
            "Car 6이(가) 2.00에 대기 후 세차장에 들어갔습니다.\n",
            "Car 9이(가) 2.22에 세차장에 도착했습니다.\n",
            "Car 10이(가) 2.63에 세차장에 도착했습니다.\n",
            "Car 11이(가) 2.69에 세차장에 도착했습니다.\n",
            "Car 5이(가) 3.00에 세차장을 떠났습니다.\n",
            "Car 6이(가) 3.00에 세차장을 떠났습니다.\n",
            "Car 7이(가) 3.00에 대기 후 세차장에 들어갔습니다.\n",
            "Car 8이(가) 3.00에 대기 후 세차장에 들어갔습니다.\n",
            "Car 12이(가) 3.33에 세차장에 도착했습니다.\n",
            "Car 13이(가) 3.36에 세차장에 도착했습니다.\n",
            "Car 14이(가) 3.88에 세차장에 도착했습니다.\n",
            "Car 15이(가) 3.95에 세차장에 도착했습니다.\n",
            "Car 7이(가) 4.00에 세차장을 떠났습니다.\n",
            "Car 8이(가) 4.00에 세차장을 떠났습니다.\n",
            "Car 9이(가) 4.00에 대기 후 세차장에 들어갔습니다.\n",
            "Car 10이(가) 4.00에 대기 후 세차장에 들어갔습니다.\n",
            "Car 16이(가) 4.03에 세차장에 도착했습니다.\n",
            "Car 17이(가) 4.53에 세차장에 도착했습니다.\n",
            "Car 9이(가) 5.00에 세차장을 떠났습니다.\n",
            "Car 10이(가) 5.00에 세차장을 떠났습니다.\n",
            "Car 11이(가) 5.00에 대기 후 세차장에 들어갔습니다.\n",
            "Car 12이(가) 5.00에 대기 후 세차장에 들어갔습니다.\n",
            "Car 11이(가) 6.00에 세차장을 떠났습니다.\n",
            "Car 12이(가) 6.00에 세차장을 떠났습니다.\n",
            "Car 13이(가) 6.00에 대기 후 세차장에 들어갔습니다.\n",
            "Car 14이(가) 6.00에 대기 후 세차장에 들어갔습니다.\n",
            "Car 18이(가) 6.12에 세차장에 도착했습니다.\n",
            "Car 19이(가) 6.24에 세차장에 도착했습니다.\n",
            "Car 20이(가) 6.47에 세차장에 도착했습니다.\n",
            "Car 13이(가) 7.00에 세차장을 떠났습니다.\n",
            "Car 14이(가) 7.00에 세차장을 떠났습니다.\n",
            "Car 15이(가) 7.00에 대기 후 세차장에 들어갔습니다.\n",
            "Car 16이(가) 7.00에 대기 후 세차장에 들어갔습니다.\n",
            "Car 21이(가) 7.37에 세차장에 도착했습니다.\n",
            "Car 15이(가) 8.00에 세차장을 떠났습니다.\n",
            "Car 16이(가) 8.00에 세차장을 떠났습니다.\n",
            "Car 17이(가) 8.00에 대기 후 세차장에 들어갔습니다.\n",
            "Car 18이(가) 8.00에 대기 후 세차장에 들어갔습니다.\n",
            "Car 17이(가) 9.00에 세차장을 떠났습니다.\n",
            "Car 18이(가) 9.00에 세차장을 떠났습니다.\n",
            "Car 19이(가) 9.00에 대기 후 세차장에 들어갔습니다.\n",
            "Car 20이(가) 9.00에 대기 후 세차장에 들어갔습니다.\n",
            "Car 19이(가) 10.00에 세차장을 떠났습니다.\n",
            "Car 20이(가) 10.00에 세차장을 떠났습니다.\n",
            "Car 21이(가) 10.00에 대기 후 세차장에 들어갔습니다.\n",
            "Car 22이(가) 10.04에 세차장에 도착했습니다.\n",
            "Car 22이(가) 10.04에 바로 세차장에 들어갔습니다.\n",
            "Car 23이(가) 10.82에 세차장에 도착했습니다.\n",
            "Car 21이(가) 11.00에 세차장을 떠났습니다.\n",
            "Car 23이(가) 11.00에 대기 후 세차장에 들어갔습니다.\n",
            "Car 22이(가) 11.04에 세차장을 떠났습니다.\n",
            "Car 24이(가) 11.28에 세차장에 도착했습니다.\n",
            "Car 24이(가) 11.28에 바로 세차장에 들어갔습니다.\n",
            "Car 23이(가) 12.00에 세차장을 떠났습니다.\n",
            "Car 24이(가) 12.28에 세차장을 떠났습니다.\n",
            "Car 25이(가) 14.67에 세차장에 도착했습니다.\n",
            "Car 25이(가) 14.67에 바로 세차장에 들어갔습니다.\n",
            "Car 26이(가) 14.71에 세차장에 도착했습니다.\n",
            "Car 26이(가) 14.71에 바로 세차장에 들어갔습니다.\n",
            "Car 25이(가) 15.67에 세차장을 떠났습니다.\n",
            "Car 26이(가) 15.71에 세차장을 떠났습니다.\n",
            "Car 27이(가) 16.48에 세차장에 도착했습니다.\n",
            "Car 27이(가) 16.48에 바로 세차장에 들어갔습니다.\n",
            "Car 28이(가) 16.79에 세차장에 도착했습니다.\n",
            "Car 28이(가) 16.79에 바로 세차장에 들어갔습니다.\n",
            "Car 29이(가) 16.94에 세차장에 도착했습니다.\n",
            "Car 30이(가) 17.05에 세차장에 도착했습니다.\n",
            "Car 31이(가) 17.38에 세차장에 도착했습니다.\n",
            "Car 27이(가) 17.48에 세차장을 떠났습니다.\n",
            "Car 29이(가) 17.48에 대기 후 세차장에 들어갔습니다.\n",
            "Car 28이(가) 17.79에 세차장을 떠났습니다.\n",
            "Car 30이(가) 17.79에 대기 후 세차장에 들어갔습니다.\n",
            "Car 29이(가) 18.48에 세차장을 떠났습니다.\n",
            "Car 31이(가) 18.48에 대기 후 세차장에 들어갔습니다.\n",
            "Car 30이(가) 18.79에 세차장을 떠났습니다.\n",
            "Car 32이(가) 18.92에 세차장에 도착했습니다.\n",
            "Car 32이(가) 18.92에 바로 세차장에 들어갔습니다.\n",
            "Car 33이(가) 19.10에 세차장에 도착했습니다.\n",
            "Car 31이(가) 19.48에 세차장을 떠났습니다.\n",
            "Car 33이(가) 19.48에 대기 후 세차장에 들어갔습니다.\n",
            "Car 34이(가) 19.89에 세차장에 도착했습니다.\n",
            "Car 32이(가) 19.92에 세차장을 떠났습니다.\n",
            "Car 34이(가) 19.92에 대기 후 세차장에 들어갔습니다.\n"
          ]
        }
      ],
      "source": [
        "print('세차장 시작')\n",
        "env = simpy.Environment()  # SimPy 환경 생성\n",
        "env.process(setup(env, NUM_MACHINES, scale))    # 고객 생성 프로세스 추가\n",
        "env.run(until=SIM_TIME)  # 시뮬레이션 실행"
      ]
    },
    {
      "cell_type": "code",
      "execution_count": 34,
      "metadata": {
        "id": "K2AN5t-_iCcy",
        "colab": {
          "base_uri": "https://localhost:8080/",
          "height": 487
        },
        "outputId": "80330a8d-b66c-4215-c406-53ccc5dff952"
      },
      "outputs": [
        {
          "output_type": "display_data",
          "data": {
            "text/plain": [
              "<Figure size 1000x500 with 1 Axes>"
            ],
            "image/png": "[encoded data removed]"
          },
          "metadata": {}
        }
      ],
      "source": [
        "# Q(t) 그래프\n",
        "times, queue_lengths = zip(*Q)\n",
        "xticks_times = sorted(set(times + (SIM_TIME,)))\n",
        "plt.figure(figsize=(10, 5))\n",
        "plt.step(times, queue_lengths, where='post', marker='o', linestyle='-', color='b')\n",
        "plt.xlabel('Time')\n",
        "plt.ylabel('Q')\n",
        "plt.title('Q(t)')\n",
        "plt.xticks(xticks_times, [f'{t:.2f}' for t in xticks_times])\n",
        "plt.yticks(range(0, max(queue_lengths) + 2, 1))\n",
        "plt.ylim(0, max(queue_lengths) + 1)\n",
        "plt.xlim(0, SIM_TIME)\n",
        "plt.grid(False)\n",
        "plt.show()"
      ]
    },
    {
      "cell_type": "code",
      "source": [
        "# B(t) 그래프\n",
        "times_B, resource_states = zip(*B)\n",
        "xticks_times_B = sorted(set(times_B + (SIM_TIME,)))\n",
        "plt.figure(figsize=(10, 5))\n",
        "plt.step(times_B, resource_states, where='post', marker='o', linestyle='-', color='r')\n",
        "plt.xlabel('Time')\n",
        "plt.ylabel('B')\n",
        "plt.title('B(t)')\n",
        "plt.xticks(xticks_times_B, [f'{t:.2f}' for t in xticks_times_B])\n",
        "plt.yticks(range(0, NUM_MACHINES + 2, 1))\n",
        "plt.ylim(0, NUM_MACHINES + 1)\n",
        "plt.xlim(0, SIM_TIME)\n",
        "plt.grid(False)\n",
        "plt.show()"
      ],
      "metadata": {
        "id": "vO5LrEBXktNT",
        "colab": {
          "base_uri": "https://localhost:8080/",
          "height": 487
        },
        "outputId": "ac82c85c-2ddf-4bb4-f2fd-f74214e3e3b7"
      },
      "execution_count": 35,
      "outputs": [
        {
          "output_type": "display_data",
          "data": {
            "text/plain": [
              "<Figure size 1000x500 with 1 Axes>"
            ],
            "image/png": "[encoded data removed]"
          },
          "metadata": {}
        }
      ]
    }
  ],
  "metadata": {
    "kernelspec": {
      "display_name": "Python 3",
      "language": "python",
      "name": "python3"
    },
    "language_info": {
      "codemirror_mode": {
        "name": "ipython",
        "version": 3
      },
      "file_extension": ".py",
      "mimetype": "text/x-python",
      "name": "python",
      "nbconvert_exporter": "python",
      "pygments_lexer": "ipython3",
      "version": "3.8.10"
    },
    "colab": {
      "provenance": [],
      "include_colab_link": true
    }
  },
  "nbformat": 4,
  "nbformat_minor": 0
}