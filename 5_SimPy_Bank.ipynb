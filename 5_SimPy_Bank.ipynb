{
  "nbformat": 4,
  "nbformat_minor": 0,
  "metadata": {
    "colab": {
      "provenance": [],
      "toc_visible": true,
      "include_colab_link": true
    },
    "kernelspec": {
      "name": "python3",
      "display_name": "Python 3"
    },
    "language_info": {
      "name": "python"
    }
  },
  "cells": [
    {
      "cell_type": "markdown",
      "metadata": {
        "id": "view-in-github",
        "colab_type": "text"
      },
      "source": [
        "<a href=\"https://colab.research.google.com/github/seoyun0311/simulation/blob/main/5_SimPy_Bank.ipynb\" target=\"_parent\"><img src=\"https://colab.research.google.com/assets/colab-badge.svg\" alt=\"Open In Colab\"/></a>"
      ]
    },
    {
      "cell_type": "code",
      "execution_count": null,
      "metadata": {
        "id": "1_miaUGzxe3e",
        "colab": {
          "base_uri": "https://localhost:8080/"
        },
        "outputId": "7bc1fc9a-bf0a-447c-8a0b-dea4145ff720"
      },
      "outputs": [
        {
          "output_type": "stream",
          "name": "stdout",
          "text": [
            "Collecting simpy\n",
            "  Downloading simpy-4.1.1-py3-none-any.whl.metadata (6.1 kB)\n",
            "Downloading simpy-4.1.1-py3-none-any.whl (27 kB)\n",
            "Installing collected packages: simpy\n",
            "Successfully installed simpy-4.1.1\n"
          ]
        }
      ],
      "source": [
        "%pip install simpy\n",
        "import simpy\n",
        "import random"
      ]
    },
    {
      "cell_type": "code",
      "source": [
        "# 고객의 Process\n",
        "def customer(env, name, server, service_time):\n",
        "    print(f\"{env.now}: {name} 고객이 은행에 도착했습니다.\") # 고객이 도착한 시점을 출력\n",
        "\n",
        "    # Server 자원을 요청 (request)\n",
        "    req = server.request()            # request 객체 생성\n",
        "    yield req            # 자원 요청. 자원이 사용 중이라면 대기\n",
        "\n",
        "    print(f\"{env.now}: {name} 고객이 창구에서 서비스를 시작했습니다.\") # 고객이 서비스를 시작한 시점을 출력\n",
        "\n",
        "    # 서비스 시간 동안 대기\n",
        "    yield env.timeout(service_time)            # service_time 만큼 대기\n",
        "\n",
        "    print(f\"{env.now}: {name} 고객이 창구 서비스를 마쳤습니다.\") # 고객이 서비스를 마친 시점을 출력\n",
        "\n",
        "    # 서비스 완료 후 자원을 반납 (release)\n",
        "    server.release(req)\n",
        "\n",
        "# 고객 생성에 대한 Process\n",
        "def customer_generator(env, server, interarrival_time):\n",
        "    i = 0\n",
        "    while True:\n",
        "        yield env.timeout(interarrival_time)        # 고객 도착 간격(interarrival_time)만큼 고객 생성을 대기\n",
        "        i += 1\n",
        "\n",
        "        # 서비스 시간(service_time)을 평균 7, 표준편차 2인 정규분포로 생성\n",
        "        service_time = max(1, random.normalvariate(7, 2))        # 서비스 시간이 1 보다 크도록 조정\n",
        "        # 만약 서비스시간이 음수 또는 0 일때 1로 나오게 조정을 함\n",
        "\n",
        "        print(f\"{env.now}: Customer {i} 생성\")  # 고객 생성 시점을 출력\n",
        "        env.process(customer(env, f\"Customer {i}\", server, service_time))  # 고객 프로세스 생성"
      ],
      "metadata": {
        "id": "0rCDJVUlxkZr"
      },
      "execution_count": null,
      "outputs": []
    },
    {
      "cell_type": "code",
      "source": [
        "# 주요 파라미터 설정\n",
        "random.seed(42)              # 시뮬레이션의 결과가 동일하게 나오도록 시드 number 설정\n",
        "interarrival_time = 5        # 고객 도착 간격 (단위 시간)\n",
        "sim_time = 200               # 시뮬레이션을 실행할 총 시간 (단위 시간)\n",
        "\n",
        "# Environment 및 Resource 초기화\n",
        "env = simpy.Environment()                       # SimPy 시뮬레이션 환경 생성\n",
        "server = simpy.Resource(env, capacity=1)                       # 단일 Server 자원을 생성 (동시에 한 명의 고객만 서비스 가능)\n",
        "\n",
        "# 고객 생성에 대한 Process를 Environment에 추가\n",
        "env.process(customer_generator(env, server, interarrival_time))                       # customer_generator를 Process로 추가하여 고객이 지정된 도착 간격마다 생성되도록 설정\n",
        "\n",
        "# 지정된 시간 동안 시뮬레이션 실행\n",
        "env.run(until=sim_time)                     # 총 시뮬레이션 시간을 sim_time으로 설정하여 실행"
      ],
      "metadata": {
        "id": "IjCvEGKRxm_2",
        "colab": {
          "base_uri": "https://localhost:8080/"
        },
        "outputId": "dcc9d58f-f480-445a-e058-3dfa7ce92722"
      },
      "execution_count": null,
      "outputs": [
        {
          "output_type": "stream",
          "name": "stdout",
          "text": [
            "5: Customer 1 생성\n",
            "5: Customer 1 고객이 은행에 도착했습니다.\n",
            "5: Customer 1 고객이 창구에서 서비스를 시작했습니다.\n",
            "10: Customer 2 생성\n",
            "10: Customer 2 고객이 은행에 도착했습니다.\n",
            "12.490652683415727: Customer 1 고객이 창구 서비스를 마쳤습니다.\n",
            "12.490652683415727: Customer 2 고객이 창구에서 서비스를 시작했습니다.\n",
            "15: Customer 3 생성\n",
            "15: Customer 3 고객이 은행에 도착했습니다.\n",
            "18.496963736593322: Customer 2 고객이 창구 서비스를 마쳤습니다.\n",
            "18.496963736593322: Customer 3 고객이 창구에서 서비스를 시작했습니다.\n",
            "20: Customer 4 생성\n",
            "20: Customer 4 고객이 은행에 도착했습니다.\n",
            "25: Customer 5 생성\n",
            "25: Customer 5 고객이 은행에 도착했습니다.\n",
            "28.006535598708247: Customer 3 고객이 창구 서비스를 마쳤습니다.\n",
            "28.006535598708247: Customer 4 고객이 창구에서 서비스를 시작했습니다.\n",
            "30: Customer 6 생성\n",
            "30: Customer 6 고객이 은행에 도착했습니다.\n",
            "34.73041747322262: Customer 4 고객이 창구 서비스를 마쳤습니다.\n",
            "34.73041747322262: Customer 5 고객이 창구에서 서비스를 시작했습니다.\n",
            "35: Customer 7 생성\n",
            "35: Customer 7 고객이 은행에 도착했습니다.\n",
            "39.778776806631974: Customer 5 고객이 창구 서비스를 마쳤습니다.\n",
            "39.778776806631974: Customer 6 고객이 창구에서 서비스를 시작했습니다.\n",
            "40: Customer 8 생성\n",
            "40: Customer 8 고객이 은행에 도착했습니다.\n",
            "45: Customer 9 생성\n",
            "45: Customer 9 고객이 은행에 도착했습니다.\n",
            "47.9088772413219: Customer 6 고객이 창구 서비스를 마쳤습니다.\n",
            "47.9088772413219: Customer 7 고객이 창구에서 서비스를 시작했습니다.\n",
            "50: Customer 10 생성\n",
            "50: Customer 10 고객이 은행에 도착했습니다.\n",
            "52.573587213662044: Customer 7 고객이 창구 서비스를 마쳤습니다.\n",
            "52.573587213662044: Customer 8 고객이 창구에서 서비스를 시작했습니다.\n",
            "55: Customer 11 생성\n",
            "55: Customer 11 고객이 은행에 도착했습니다.\n",
            "60: Customer 12 생성\n",
            "60: Customer 12 고객이 은행에 도착했습니다.\n",
            "63.0496381483331: Customer 8 고객이 창구 서비스를 마쳤습니다.\n",
            "63.0496381483331: Customer 9 고객이 창구에서 서비스를 시작했습니다.\n",
            "65: Customer 13 생성\n",
            "65: Customer 13 고객이 은행에 도착했습니다.\n",
            "69.4006197406499: Customer 9 고객이 창구 서비스를 마쳤습니다.\n",
            "69.4006197406499: Customer 10 고객이 창구에서 서비스를 시작했습니다.\n",
            "70: Customer 14 생성\n",
            "70: Customer 14 고객이 은행에 도착했습니다.\n",
            "75: Customer 15 생성\n",
            "75: Customer 15 고객이 은행에 도착했습니다.\n",
            "78.76527235652259: Customer 10 고객이 창구 서비스를 마쳤습니다.\n",
            "78.76527235652259: Customer 11 고객이 창구에서 서비스를 시작했습니다.\n",
            "80: Customer 16 생성\n",
            "80: Customer 16 고객이 은행에 도착했습니다.\n",
            "85: Customer 17 생성\n",
            "85: Customer 17 고객이 은행에 도착했습니다.\n",
            "88.77397987983834: Customer 11 고객이 창구 서비스를 마쳤습니다.\n",
            "88.77397987983834: Customer 12 고객이 창구에서 서비스를 시작했습니다.\n",
            "90: Customer 18 생성\n",
            "90: Customer 18 고객이 은행에 도착했습니다.\n",
            "95: Customer 19 생성\n",
            "95: Customer 19 고객이 은행에 도착했습니다.\n",
            "99.67297395897786: Customer 12 고객이 창구 서비스를 마쳤습니다.\n",
            "99.67297395897786: Customer 13 고객이 창구에서 서비스를 시작했습니다.\n",
            "100: Customer 20 생성\n",
            "100: Customer 20 고객이 은행에 도착했습니다.\n",
            "105: Customer 21 생성\n",
            "105: Customer 21 고객이 은행에 도착했습니다.\n",
            "110: Customer 22 생성\n",
            "110: Customer 22 고객이 은행에 도착했습니다.\n",
            "111.29652337984304: Customer 13 고객이 창구 서비스를 마쳤습니다.\n",
            "111.29652337984304: Customer 14 고객이 창구에서 서비스를 시작했습니다.\n",
            "115: Customer 23 생성\n",
            "115: Customer 23 고객이 은행에 도착했습니다.\n",
            "117.36618164111732: Customer 14 고객이 창구 서비스를 마쳤습니다.\n",
            "117.36618164111732: Customer 15 고객이 창구에서 서비스를 시작했습니다.\n",
            "120: Customer 24 생성\n",
            "120: Customer 24 고객이 은행에 도착했습니다.\n",
            "125: Customer 25 생성\n",
            "125: Customer 25 고객이 은행에 도착했습니다.\n",
            "127.32886635451945: Customer 15 고객이 창구 서비스를 마쳤습니다.\n",
            "127.32886635451945: Customer 16 고객이 창구에서 서비스를 시작했습니다.\n",
            "130: Customer 26 생성\n",
            "130: Customer 26 고객이 은행에 도착했습니다.\n",
            "135: Customer 27 생성\n",
            "135: Customer 27 고객이 은행에 도착했습니다.\n",
            "137.26520318950614: Customer 16 고객이 창구 서비스를 마쳤습니다.\n",
            "137.26520318950614: Customer 17 고객이 창구에서 서비스를 시작했습니다.\n",
            "140: Customer 28 생성\n",
            "140: Customer 28 고객이 은행에 도착했습니다.\n",
            "145: Customer 29 생성\n",
            "145: Customer 29 고객이 은행에 도착했습니다.\n",
            "145.0008092141394: Customer 17 고객이 창구 서비스를 마쳤습니다.\n",
            "145.0008092141394: Customer 18 고객이 창구에서 서비스를 시작했습니다.\n",
            "150: Customer 30 생성\n",
            "150: Customer 30 고객이 은행에 도착했습니다.\n",
            "150.68701760787985: Customer 18 고객이 창구 서비스를 마쳤습니다.\n",
            "150.68701760787985: Customer 19 고객이 창구에서 서비스를 시작했습니다.\n",
            "155: Customer 31 생성\n",
            "155: Customer 31 고객이 은행에 도착했습니다.\n",
            "155.80779453840384: Customer 19 고객이 창구 서비스를 마쳤습니다.\n",
            "155.80779453840384: Customer 20 고객이 창구에서 서비스를 시작했습니다.\n",
            "160: Customer 32 생성\n",
            "160: Customer 32 고객이 은행에 도착했습니다.\n",
            "160.9117610112226: Customer 20 고객이 창구 서비스를 마쳤습니다.\n",
            "160.9117610112226: Customer 21 고객이 창구에서 서비스를 시작했습니다.\n",
            "165: Customer 33 생성\n",
            "165: Customer 33 고객이 은행에 도착했습니다.\n",
            "168.64470252486697: Customer 21 고객이 창구 서비스를 마쳤습니다.\n",
            "168.64470252486697: Customer 22 고객이 창구에서 서비스를 시작했습니다.\n",
            "170: Customer 34 생성\n",
            "170: Customer 34 고객이 은행에 도착했습니다.\n",
            "175: Customer 35 생성\n",
            "175: Customer 35 고객이 은행에 도착했습니다.\n",
            "175.08123601815615: Customer 22 고객이 창구 서비스를 마쳤습니다.\n",
            "175.08123601815615: Customer 23 고객이 창구에서 서비스를 시작했습니다.\n",
            "180: Customer 36 생성\n",
            "180: Customer 36 고객이 은행에 도착했습니다.\n",
            "183.3806934732296: Customer 23 고객이 창구 서비스를 마쳤습니다.\n",
            "183.3806934732296: Customer 24 고객이 창구에서 서비스를 시작했습니다.\n",
            "185: Customer 37 생성\n",
            "185: Customer 37 고객이 은행에 도착했습니다.\n",
            "186.21512244441556: Customer 24 고객이 창구 서비스를 마쳤습니다.\n",
            "186.21512244441556: Customer 25 고객이 창구에서 서비스를 시작했습니다.\n",
            "190: Customer 38 생성\n",
            "190: Customer 38 고객이 은행에 도착했습니다.\n",
            "191.35403974997288: Customer 25 고객이 창구 서비스를 마쳤습니다.\n",
            "191.35403974997288: Customer 26 고객이 창구에서 서비스를 시작했습니다.\n",
            "195: Customer 39 생성\n",
            "195: Customer 39 고객이 은행에 도착했습니다.\n",
            "198.9735913133644: Customer 26 고객이 창구 서비스를 마쳤습니다.\n",
            "198.9735913133644: Customer 27 고객이 창구에서 서비스를 시작했습니다.\n"
          ]
        }
      ]
    }
  ]
}